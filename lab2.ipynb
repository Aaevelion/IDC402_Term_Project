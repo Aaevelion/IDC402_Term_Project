{
 "cells": [
  {
   "cell_type": "markdown",
   "metadata": {},
   "source": [
    "# **Lab 2**\n",
    "## **Multi-precision arithmetic** \n",
    "---\n",
    "---"
   ]
  },
  {
   "cell_type": "markdown",
   "metadata": {},
   "source": [
    "<br/><br/>"
   ]
  },
  {
   "cell_type": "markdown",
   "metadata": {},
   "source": [
    "## Decorators and helper utilities :\n",
    "---"
   ]
  },
  {
   "cell_type": "markdown",
   "metadata": {},
   "source": [
    "#### 1. Counts the number of times a function is called"
   ]
  },
  {
   "cell_type": "code",
   "execution_count": 25,
   "metadata": {},
   "outputs": [],
   "source": [
    "def count(func):\n",
    "    def wrapper(*args, **kwargs):\n",
    "        wrapper.calls += 1\n",
    "        return func(*args, **kwargs)\n",
    "    wrapper.calls = 0\n",
    "    return wrapper"
   ]
  },
  {
   "cell_type": "markdown",
   "metadata": {},
   "source": [
    "#### 2. Returns the \"wall-clock\" execution time of the function"
   ]
  },
  {
   "cell_type": "code",
   "execution_count": 26,
   "metadata": {},
   "outputs": [],
   "source": [
    "import time\n",
    "def timer(func):\n",
    "    def wrapper(*args, **kwargs):\n",
    "        start = time.time()\n",
    "        result = func(*args, **kwargs)\n",
    "        end = time.time()\n",
    "        # print(f\"Took {end - start} seconds\")\n",
    "        return end - start #result\n",
    "    return wrapper"
   ]
  },
  {
   "cell_type": "markdown",
   "metadata": {},
   "source": [
    "#### 3. Returns array of digits in specified base"
   ]
  },
  {
   "cell_type": "code",
   "execution_count": 27,
   "metadata": {},
   "outputs": [],
   "source": [
    "def parse_input(input, base) :\n",
    "    arr = []\n",
    "    while input >= base :\n",
    "        arr.append(input%base)\n",
    "        input = input//base\n",
    "    arr.append(input)\n",
    "    return arr"
   ]
  },
  {
   "cell_type": "markdown",
   "metadata": {},
   "source": [
    "<br/><br/>"
   ]
  },
  {
   "cell_type": "markdown",
   "metadata": {},
   "source": [
    "## Declare parameters :\n",
    "---"
   ]
  },
  {
   "cell_type": "markdown",
   "metadata": {},
   "source": [
    "#### Declare the base of the machine instructions"
   ]
  },
  {
   "cell_type": "code",
   "execution_count": 28,
   "metadata": {},
   "outputs": [],
   "source": [
    "base=10"
   ]
  },
  {
   "cell_type": "markdown",
   "metadata": {},
   "source": [
    "<br/><br/>"
   ]
  },
  {
   "cell_type": "markdown",
   "metadata": {},
   "source": [
    "## Functions\n",
    "---"
   ]
  },
  {
   "cell_type": "markdown",
   "metadata": {},
   "source": [
    "#### Machine operations"
   ]
  },
  {
   "cell_type": "code",
   "execution_count": 29,
   "metadata": {},
   "outputs": [],
   "source": [
    "@count\n",
    "def add_mac(a, b) :\n",
    "    c = a + b\n",
    "    return c%base, c//base\n",
    "\n",
    "@count\n",
    "def mul_mac(a, b) :\n",
    "    c = a * b\n",
    "    return c%base, c//base"
   ]
  },
  {
   "cell_type": "markdown",
   "metadata": {},
   "source": [
    "#### Fundamental functions and recursion thereof"
   ]
  },
  {
   "cell_type": "code",
   "execution_count": 30,
   "metadata": {},
   "outputs": [],
   "source": [
    "def add1(alpha, beta, c) :\n",
    "    r = add_mac(alpha[0], beta[0])\n",
    "    s = add_mac(r[0], c)\n",
    "    t = add_mac(r[1], s[1])\n",
    "    # assert t[1] == 0  # comment out\n",
    "    if len(beta) == 1 : return [s[0], t[0]]\n",
    "    return [s[0]] + add1(alpha[1:], beta[1:], t[0])\n",
    "\n",
    "# def add1(a, b, c) :\n",
    "#     if len(a)==0 : return [c]\n",
    "#     c0, d0 = add_mac(a[0], b[0])\n",
    "#     # print(c0, d0)\n",
    "#     c1, d1 = add_mac(c0, c)\n",
    "#     # print(c1, d1)\n",
    "#     c2, d2 = add_mac(d1, d0)\n",
    "#     # print(c2, d2)\n",
    "#     assert d2 == 0\n",
    "#     return [c1] + add1(a[1:], b[1:], c2) # if len(a) > 1 else [c1, c2]\n",
    "#     # else : return [c1, c2]\n",
    "\n",
    "def mul1(a, beta, c) :\n",
    "    r = mul_mac(a,beta[0])\n",
    "    s = add_mac(r[0],c)\n",
    "    t = add_mac(r[1],s[1])\n",
    "    if len(beta) == 1 : return [s[0], t[0]]\n",
    "    return [s[0]] + mul1(a, beta[1:], t[0])"
   ]
  },
  {
   "cell_type": "markdown",
   "metadata": {},
   "source": [
    "#### Arbitrary precision interger arithmetic functions"
   ]
  },
  {
   "cell_type": "code",
   "execution_count": 31,
   "metadata": {},
   "outputs": [],
   "source": [
    "def add(alpha, beta) :\n",
    "    la, lb = len(alpha), len(beta)\n",
    "    l = max(la, lb)\n",
    "    alpha = alpha + (l-la) * [0]\n",
    "    beta = beta + (l-lb) * [0]\n",
    "    return add1(alpha, beta, 0)\n",
    "\n",
    "def mul(alpha, beta) :\n",
    "    r = mul1(alpha[0], beta,0)\n",
    "    if len(alpha) == 1 : return r\n",
    "    s = [0] + mul(alpha[1:], beta)\n",
    "    return add(r, s)"
   ]
  },
  {
   "cell_type": "markdown",
   "metadata": {},
   "source": [
    "#### Wrapped functions to measure time of execution"
   ]
  },
  {
   "cell_type": "code",
   "execution_count": 32,
   "metadata": {},
   "outputs": [],
   "source": [
    "@timer\n",
    "def add_time(alpha, beta) :\n",
    "    add(alpha, beta)\n",
    "\n",
    "@timer\n",
    "def mul_time(alpha, beta) :\n",
    "    mul(alpha, beta)"
   ]
  },
  {
   "cell_type": "markdown",
   "metadata": {},
   "source": [
    "<br/><br/>"
   ]
  },
  {
   "cell_type": "markdown",
   "metadata": {},
   "source": [
    "## Unit testing :\n",
    "---"
   ]
  },
  {
   "cell_type": "code",
   "execution_count": 33,
   "metadata": {},
   "outputs": [
    {
     "data": {
      "text/plain": [
       "[0, 5, 4, 3, 2, 1]"
      ]
     },
     "execution_count": 33,
     "metadata": {},
     "output_type": "execute_result"
    }
   ],
   "source": [
    "parse_input(123450, base)"
   ]
  },
  {
   "cell_type": "code",
   "execution_count": 34,
   "metadata": {},
   "outputs": [
    {
     "data": {
      "text/plain": [
       "0"
      ]
     },
     "execution_count": 34,
     "metadata": {},
     "output_type": "execute_result"
    }
   ],
   "source": [
    "add_mac.calls = 0 # reset counter\n",
    "mul_mac.calls # expected 0"
   ]
  },
  {
   "cell_type": "code",
   "execution_count": 35,
   "metadata": {},
   "outputs": [
    {
     "data": {
      "text/plain": [
       "(0, 0)"
      ]
     },
     "execution_count": 35,
     "metadata": {},
     "output_type": "execute_result"
    }
   ],
   "source": [
    "add_mac(0, 0) # expected 0, i.e. (0, 0)"
   ]
  },
  {
   "cell_type": "code",
   "execution_count": 36,
   "metadata": {},
   "outputs": [
    {
     "data": {
      "text/plain": [
       "(8, 1)"
      ]
     },
     "execution_count": 36,
     "metadata": {},
     "output_type": "execute_result"
    }
   ],
   "source": [
    "add_mac(9, 9) # expected 18, i.e. (8, 1)"
   ]
  },
  {
   "cell_type": "code",
   "execution_count": 37,
   "metadata": {},
   "outputs": [
    {
     "data": {
      "text/plain": [
       "2"
      ]
     },
     "execution_count": 37,
     "metadata": {},
     "output_type": "execute_result"
    }
   ],
   "source": [
    "add_mac.calls # expected 2"
   ]
  },
  {
   "cell_type": "code",
   "execution_count": 38,
   "metadata": {},
   "outputs": [
    {
     "data": {
      "text/plain": [
       "(0, 0)"
      ]
     },
     "execution_count": 38,
     "metadata": {},
     "output_type": "execute_result"
    }
   ],
   "source": [
    "mul_mac(0, 0) # expected 0, i.e. (0, 0)"
   ]
  },
  {
   "cell_type": "code",
   "execution_count": 39,
   "metadata": {},
   "outputs": [
    {
     "data": {
      "text/plain": [
       "(1, 8)"
      ]
     },
     "execution_count": 39,
     "metadata": {},
     "output_type": "execute_result"
    }
   ],
   "source": [
    "mul_mac(9, 9) # expected 81, i.e. (1, 8)"
   ]
  },
  {
   "cell_type": "code",
   "execution_count": 40,
   "metadata": {},
   "outputs": [
    {
     "data": {
      "text/plain": [
       "[0, 0]"
      ]
     },
     "execution_count": 40,
     "metadata": {},
     "output_type": "execute_result"
    }
   ],
   "source": [
    "add([0], [0]) # expected 0, i.e. [0, 0]"
   ]
  },
  {
   "cell_type": "code",
   "execution_count": 41,
   "metadata": {},
   "outputs": [
    {
     "data": {
      "text/plain": [
       "[0, 9, 1]"
      ]
     },
     "execution_count": 41,
     "metadata": {},
     "output_type": "execute_result"
    }
   ],
   "source": [
    "add([1, 9], [9, 9]) # expected 190, i.e. [0, 9, 1]"
   ]
  },
  {
   "cell_type": "code",
   "execution_count": 42,
   "metadata": {},
   "outputs": [
    {
     "data": {
      "text/plain": [
       "[0, 0]"
      ]
     },
     "execution_count": 42,
     "metadata": {},
     "output_type": "execute_result"
    }
   ],
   "source": [
    "mul([0], [0]) # expected 0, i.e. [0, 0]"
   ]
  },
  {
   "cell_type": "code",
   "execution_count": 43,
   "metadata": {},
   "outputs": [
    {
     "data": {
      "text/plain": [
       "[1, 0, 8, 9, 0]"
      ]
     },
     "execution_count": 43,
     "metadata": {},
     "output_type": "execute_result"
    }
   ],
   "source": [
    "mul([9, 9], [9, 9]) # expected 9801, i.e. [1, 0, 8, 9]"
   ]
  },
  {
   "cell_type": "code",
   "execution_count": 44,
   "metadata": {},
   "outputs": [
    {
     "data": {
      "text/plain": [
       "2.1457672119140625e-05"
      ]
     },
     "execution_count": 44,
     "metadata": {},
     "output_type": "execute_result"
    }
   ],
   "source": [
    "mul_time([9, 9], [9, 9]) # expected a small postive value (~1e-6)"
   ]
  },
  {
   "cell_type": "markdown",
   "metadata": {},
   "source": [
    "<br/><br/>"
   ]
  },
  {
   "cell_type": "markdown",
   "metadata": {},
   "source": [
    "## Plotting (time complexities) :\n",
    "---"
   ]
  },
  {
   "cell_type": "markdown",
   "metadata": {},
   "source": [
    "### **1. Addition**"
   ]
  },
  {
   "cell_type": "markdown",
   "metadata": {},
   "source": [
    "#### *Generate data (addition of two random numbers of a given length)*"
   ]
  },
  {
   "cell_type": "code",
   "execution_count": 45,
   "metadata": {},
   "outputs": [
    {
     "name": "stdout",
     "output_type": "stream",
     "text": [
      "input_len \t add_mac calls \t time (s)\n",
      "01 \t\t 0003 \t\t 8.34e-06\n",
      "02 \t\t 0006 \t\t 5.96e-06\n",
      "03 \t\t 0009 \t\t 5.96e-06\n",
      "04 \t\t 0012 \t\t 7.15e-06\n",
      "05 \t\t 0015 \t\t 7.39e-06\n",
      "06 \t\t 0018 \t\t 7.15e-06\n",
      "07 \t\t 0021 \t\t 9.30e-06\n",
      "08 \t\t 0024 \t\t 1.07e-05\n",
      "09 \t\t 0027 \t\t 9.30e-06\n",
      "10 \t\t 0030 \t\t 1.07e-05\n",
      "11 \t\t 0033 \t\t 1.19e-05\n",
      "12 \t\t 0036 \t\t 1.43e-05\n",
      "13 \t\t 0039 \t\t 1.55e-05\n",
      "14 \t\t 0042 \t\t 1.43e-05\n",
      "15 \t\t 0045 \t\t 1.53e-05\n",
      "16 \t\t 0048 \t\t 1.55e-05\n",
      "17 \t\t 0051 \t\t 1.88e-05\n",
      "18 \t\t 0054 \t\t 3.34e-05\n",
      "19 \t\t 0057 \t\t 2.03e-05\n",
      "20 \t\t 0060 \t\t 2.00e-05\n",
      "21 \t\t 0063 \t\t 2.26e-05\n",
      "22 \t\t 0066 \t\t 2.24e-05\n",
      "23 \t\t 0069 \t\t 2.38e-05\n",
      "24 \t\t 0072 \t\t 2.38e-05\n",
      "25 \t\t 0075 \t\t 2.62e-05\n",
      "26 \t\t 0078 \t\t 2.62e-05\n",
      "27 \t\t 0081 \t\t 2.50e-05\n",
      "28 \t\t 0084 \t\t 2.74e-05\n",
      "29 \t\t 0087 \t\t 2.74e-05\n",
      "30 \t\t 0090 \t\t 2.84e-05\n",
      "31 \t\t 0093 \t\t 3.77e-05\n",
      "32 \t\t 0096 \t\t 3.93e-05\n",
      "33 \t\t 0099 \t\t 3.79e-05\n",
      "34 \t\t 0102 \t\t 3.79e-05\n",
      "35 \t\t 0105 \t\t 3.24e-05\n",
      "36 \t\t 0108 \t\t 3.43e-05\n",
      "37 \t\t 0111 \t\t 3.46e-05\n",
      "38 \t\t 0114 \t\t 3.81e-05\n",
      "39 \t\t 0117 \t\t 3.70e-05\n",
      "40 \t\t 0120 \t\t 3.67e-05\n",
      "41 \t\t 0123 \t\t 3.79e-05\n",
      "42 \t\t 0126 \t\t 3.93e-05\n",
      "43 \t\t 0129 \t\t 3.91e-05\n",
      "44 \t\t 0132 \t\t 4.51e-05\n",
      "45 \t\t 0135 \t\t 4.41e-05\n",
      "46 \t\t 0138 \t\t 4.27e-05\n",
      "47 \t\t 0141 \t\t 4.39e-05\n",
      "48 \t\t 0144 \t\t 4.86e-05\n",
      "49 \t\t 0147 \t\t 4.98e-05\n",
      "50 \t\t 0150 \t\t 5.13e-05\n"
     ]
    }
   ],
   "source": [
    "from random import uniform\n",
    "input_lengths = range(1, 51)\n",
    "num_adds = []\n",
    "add_times = []\n",
    "\n",
    "print('input_len \\t add_mac calls \\t time (s)')\n",
    "\n",
    "for input_length in input_lengths :\n",
    "    add_mac.calls = 0\n",
    "    num1 = int(uniform(10**(input_length-1), 10**input_length))\n",
    "    num2 = int(uniform(10**(input_length-1), 10**input_length))\n",
    "    add_time_taken = add_time(parse_input(num1, base), parse_input(num2, base))\n",
    "    add_times.append(add_time_taken)\n",
    "    num_adds.append(add_mac.calls)\n",
    "    print(f'{input_length:02d} \\t\\t {add_mac.calls:04d} \\t\\t {add_time_taken:.2e}')"
   ]
  },
  {
   "cell_type": "markdown",
   "metadata": {},
   "source": [
    "#### *Plotting the data*"
   ]
  },
  {
   "cell_type": "code",
   "execution_count": 46,
   "metadata": {},
   "outputs": [
    {
     "data": {
      "image/png": "[encoded data removed]",
      "text/plain": [
       "<Figure size 640x480 with 2 Axes>"
      ]
     },
     "metadata": {},
     "output_type": "display_data"
    }
   ],
   "source": [
    "import matplotlib.pyplot as plt\n",
    "\n",
    "fig, ax1 = plt.subplots()\n",
    "ax2 = ax1.twinx()\n",
    "\n",
    "ax1.plot(input_lengths, num_adds, 'r-')\n",
    "ax2.plot(input_lengths, add_times, 'g-')\n",
    "\n",
    "ax1.set_xlabel('Input length')\n",
    "ax1.set_ylabel('add_mac calls', color='r')\n",
    "ax2.set_ylabel('Time taken (s)', color='g')\n",
    "ax1.legend(['add_mac calls'])\n",
    "ax2.legend(['time taken (s)'], loc='upper right')\n",
    "\n",
    "plt.title('Time taken and add_mac calls against input length for addition')\n",
    "plt.show() # linear trends !"
   ]
  },
  {
   "cell_type": "markdown",
   "metadata": {},
   "source": [
    "### **2. Multiplication**"
   ]
  },
  {
   "cell_type": "markdown",
   "metadata": {},
   "source": [
    "#### *Generate data (multiplying the largest n-digit number with itself)*"
   ]
  },
  {
   "cell_type": "code",
   "execution_count": 47,
   "metadata": {},
   "outputs": [
    {
     "name": "stdout",
     "output_type": "stream",
     "text": [
      "input_len \t add_mac calls \t mul_mac calls \t time (s)\n",
      "01 \t\t 0002 \t\t 0001 \t\t 8.34e-06\n",
      "02 \t\t 0020 \t\t 0004 \t\t 1.57e-05\n",
      "03 \t\t 0054 \t\t 0009 \t\t 2.24e-05\n",
      "04 \t\t 0104 \t\t 0016 \t\t 3.81e-05\n",
      "05 \t\t 0170 \t\t 0025 \t\t 5.82e-05\n",
      "06 \t\t 0252 \t\t 0036 \t\t 8.32e-05\n",
      "07 \t\t 0350 \t\t 0049 \t\t 1.16e-04\n",
      "08 \t\t 0464 \t\t 0064 \t\t 1.56e-04\n",
      "09 \t\t 0594 \t\t 0081 \t\t 1.91e-04\n",
      "10 \t\t 0740 \t\t 0100 \t\t 2.49e-04\n",
      "11 \t\t 0902 \t\t 0121 \t\t 2.94e-04\n",
      "12 \t\t 1080 \t\t 0144 \t\t 4.05e-04\n",
      "13 \t\t 1274 \t\t 0169 \t\t 4.46e-04\n",
      "14 \t\t 1484 \t\t 0196 \t\t 4.81e-04\n",
      "15 \t\t 1710 \t\t 0225 \t\t 5.70e-04\n",
      "16 \t\t 1952 \t\t 0256 \t\t 1.05e-03\n",
      "17 \t\t 2210 \t\t 0289 \t\t 7.62e-04\n",
      "18 \t\t 2484 \t\t 0324 \t\t 8.96e-04\n",
      "19 \t\t 2774 \t\t 0361 \t\t 9.64e-04\n",
      "20 \t\t 3080 \t\t 0400 \t\t 1.08e-03\n",
      "21 \t\t 3402 \t\t 0441 \t\t 1.21e-03\n",
      "22 \t\t 3740 \t\t 0484 \t\t 1.30e-03\n",
      "23 \t\t 4094 \t\t 0529 \t\t 1.45e-03\n",
      "24 \t\t 4464 \t\t 0576 \t\t 1.58e-03\n",
      "25 \t\t 4850 \t\t 0625 \t\t 2.19e-03\n",
      "26 \t\t 5252 \t\t 0676 \t\t 1.87e-03\n",
      "27 \t\t 5670 \t\t 0729 \t\t 2.19e-03\n",
      "28 \t\t 6104 \t\t 0784 \t\t 2.21e-03\n",
      "29 \t\t 6554 \t\t 0841 \t\t 2.38e-03\n",
      "30 \t\t 7020 \t\t 0900 \t\t 3.01e-03\n",
      "31 \t\t 7502 \t\t 0961 \t\t 2.77e-03\n",
      "32 \t\t 8000 \t\t 1024 \t\t 3.02e-03\n",
      "33 \t\t 8514 \t\t 1089 \t\t 3.74e-03\n",
      "34 \t\t 9044 \t\t 1156 \t\t 4.21e-03\n",
      "35 \t\t 9590 \t\t 1225 \t\t 3.97e-03\n",
      "36 \t\t 10152 \t\t 1296 \t\t 4.21e-03\n",
      "37 \t\t 10730 \t\t 1369 \t\t 4.22e-03\n",
      "38 \t\t 11324 \t\t 1444 \t\t 4.35e-03\n",
      "39 \t\t 11934 \t\t 1521 \t\t 4.60e-03\n",
      "40 \t\t 12560 \t\t 1600 \t\t 4.80e-03\n",
      "41 \t\t 13202 \t\t 1681 \t\t 5.20e-03\n",
      "42 \t\t 13860 \t\t 1764 \t\t 5.37e-03\n",
      "43 \t\t 14534 \t\t 1849 \t\t 5.62e-03\n",
      "44 \t\t 15224 \t\t 1936 \t\t 8.77e-03\n",
      "45 \t\t 15930 \t\t 2025 \t\t 6.25e-03\n",
      "46 \t\t 16652 \t\t 2116 \t\t 7.07e-03\n",
      "47 \t\t 17390 \t\t 2209 \t\t 6.98e-03\n",
      "48 \t\t 18144 \t\t 2304 \t\t 7.13e-03\n",
      "49 \t\t 18914 \t\t 2401 \t\t 7.52e-03\n",
      "50 \t\t 19700 \t\t 2500 \t\t 7.89e-03\n"
     ]
    }
   ],
   "source": [
    "input_lengths = range(1, 51)\n",
    "num_adds = []\n",
    "num_muls = []\n",
    "mul_times = []\n",
    "\n",
    "print('input_len \\t add_mac calls \\t mul_mac calls \\t time (s)')\n",
    "\n",
    "for input_length in input_lengths :\n",
    "    add_mac.calls, mul_mac.calls = 0, 0\n",
    "    mul_time_taken = mul_time(parse_input(10**input_length-1, base), parse_input(10**input_length-1, base))\n",
    "    mul_times.append(mul_time_taken)\n",
    "    num_adds.append(add_mac.calls)\n",
    "    num_muls.append(mul_mac.calls)\n",
    "    print(f'{input_length:02d} \\t\\t {add_mac.calls:04d} \\t\\t {mul_mac.calls:04d} \\t\\t {mul_time_taken:.2e}')"
   ]
  },
  {
   "cell_type": "markdown",
   "metadata": {},
   "source": [
    "#### *Plotting the data*"
   ]
  },
  {
   "cell_type": "code",
   "execution_count": 48,
   "metadata": {},
   "outputs": [
    {
     "data": {
      "image/png": "[encoded data removed]",
      "text/plain": [
       "<Figure size 640x480 with 2 Axes>"
      ]
     },
     "metadata": {},
     "output_type": "display_data"
    }
   ],
   "source": [
    "fig, ax1 = plt.subplots()\n",
    "ax2 = ax1.twinx()\n",
    "\n",
    "ax1.plot(input_lengths, num_adds, 'r-')\n",
    "ax1.plot(input_lengths, num_muls, 'b-')\n",
    "ax2.plot(input_lengths, mul_times, 'g-')\n",
    "\n",
    "ax1.set_xlabel('Input length')\n",
    "ax1.set_ylabel('Machine arithmatic calls')\n",
    "ax2.set_ylabel('Time taken (s)', color='g')\n",
    "ax1.legend(['add_mac calls', 'mul_mac calls'])\n",
    "ax2.legend(['time taken (s)'], loc='upper right')\n",
    "\n",
    "plt.title('add_mac, mul_mac and time taken against input length for multiplication')\n",
    "plt.show() # quadratic complexity !"
   ]
  }
 ],
 "metadata": {
  "kernelspec": {
   "display_name": ".venv",
   "language": "python",
   "name": "python3"
  },
  "language_info": {
   "codemirror_mode": {
    "name": "ipython",
    "version": 3
   },
   "file_extension": ".py",
   "mimetype": "text/x-python",
   "name": "python",
   "nbconvert_exporter": "python",
   "pygments_lexer": "ipython3",
   "version": "3.10.15"
  }
 },
 "nbformat": 4,
 "nbformat_minor": 2
}
